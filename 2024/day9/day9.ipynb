{
 "cells": [
  {
   "cell_type": "code",
   "execution_count": null,
   "metadata": {},
   "outputs": [],
   "source": [
    "example = \"2333133121414131402\""
   ]
  },
  {
   "cell_type": "code",
   "execution_count": null,
   "metadata": {},
   "outputs": [],
   "source": [
    "def generate_disk_blocks(disk_map):\n",
    "    res = []\n",
    "    for i, digit in enumerate(disk_map):\n",
    "        if i % 2 == 0:\n",
    "            res += [str(i // 2)] * int(digit)\n",
    "        else:\n",
    "            res += [\".\"] * int(digit)\n",
    "    return res"
   ]
  },
  {
   "cell_type": "code",
   "execution_count": null,
   "metadata": {},
   "outputs": [],
   "source": [
    "def compress_disk_blocks(disk_blocks):\n",
    "    while \".\" in disk_blocks:\n",
    "        disk_blocks[disk_blocks.index(\".\")] = disk_blocks[-1]\n",
    "        disk_blocks = disk_blocks[:-1]\n",
    "    return disk_blocks"
   ]
  },
  {
   "cell_type": "code",
   "execution_count": null,
   "metadata": {},
   "outputs": [],
   "source": [
    "def calc_checksum(disk_blocks):\n",
    "    assert \".\" not in disk_blocks\n",
    "    return sum(i*int(block) for i, block in enumerate(disk_blocks))"
   ]
  },
  {
   "cell_type": "code",
   "execution_count": null,
   "metadata": {},
   "outputs": [],
   "source": [
    "def calc(disk_map):\n",
    "    disk_blocks = generate_disk_blocks(disk_map)\n",
    "    disk_blocks = compress_disk_blocks(disk_blocks)\n",
    "    return calc_checksum(disk_blocks)"
   ]
  },
  {
   "cell_type": "code",
   "execution_count": null,
   "metadata": {},
   "outputs": [],
   "source": [
    "calc(example)"
   ]
  },
  {
   "cell_type": "code",
   "execution_count": null,
   "metadata": {},
   "outputs": [],
   "source": [
    "from pathlib import Path\n",
    "\n",
    "disk_map = Path(\"1.txt\").read_text().strip()"
   ]
  },
  {
   "cell_type": "code",
   "execution_count": null,
   "metadata": {},
   "outputs": [],
   "source": [
    "calc(disk_map)"
   ]
  },
  {
   "cell_type": "code",
   "execution_count": null,
   "metadata": {},
   "outputs": [],
   "source": [
    "calc(disk_map)"
   ]
  },
  {
   "cell_type": "code",
   "execution_count": null,
   "metadata": {},
   "outputs": [],
   "source": [
    "from dataclasses import dataclass\n",
    "from enum import Enum\n",
    "\n",
    "class BlockType(Enum):\n",
    "    FREE = \"free\"\n",
    "    FILE = \"file\"\n",
    "\n",
    "@dataclass\n",
    "class Block:\n",
    "    block_type: BlockType\n",
    "    size: int\n",
    "    identifier: int | None = None"
   ]
  },
  {
   "cell_type": "code",
   "execution_count": null,
   "metadata": {},
   "outputs": [],
   "source": [
    "def disk_map_to_blocks(disk_map) -> list[Block]:\n",
    "    res = []\n",
    "    for i, digit in enumerate(disk_map):\n",
    "        if i % 2 == 0:\n",
    "            res.append(Block(block_type=BlockType.FILE, size=int(digit), identifier=i // 2))\n",
    "        else:\n",
    "            res.append(Block(block_type=BlockType.FREE, size=int(digit)))\n",
    "    return res\n",
    "\n",
    "\n",
    "def print_blocks(blocks: list[Block]):\n",
    "    for block in blocks:\n",
    "        if block.block_type == BlockType.FREE:\n",
    "            print(\".\"*block.size, end=\"\")\n",
    "        else:\n",
    "            print(str(block.identifier)*block.size, end=\"\")\n",
    "    print()\n",
    "\n",
    "\n",
    "def correct_free_blocks(blocks: list[Block]) -> list[Block]:\n",
    "    new_blocks = []\n",
    "    acc_size = 0\n",
    "    for i, block in enumerate(blocks):\n",
    "        if block.block_type == BlockType.FREE:\n",
    "            if not block.size:\n",
    "                continue\n",
    "            if i+1 < len(blocks) and blocks[i+1].block_type == BlockType.FREE:\n",
    "                acc_size += block.size\n",
    "                continue\n",
    "            new_blocks.append(block)\n",
    "            block.size += acc_size\n",
    "            acc_size = 0\n",
    "        else:\n",
    "            new_blocks.append(block)\n",
    "    return new_blocks\n",
    "\n",
    "\n",
    "def compress_disk_map(disk_map, debug) -> list[Block]:\n",
    "    blocks = disk_map_to_blocks(disk_map)\n",
    "    if debug:\n",
    "        print_blocks(blocks)\n",
    "    blocks_done = []\n",
    "    file_blocks = sum(1 for block in blocks if block.block_type == BlockType.FILE)\n",
    "    while len(blocks_done) < file_blocks:\n",
    "        i_last_file_block = next((len(blocks)-i-1 for i, block in enumerate(blocks[::-1]) if block.block_type == BlockType.FILE and block.identifier not in blocks_done))\n",
    "        i_first_free_block = next((i for i, block in enumerate(blocks) if block.block_type == BlockType.FREE and blocks[i_last_file_block].size <= block.size and i < i_last_file_block), None)\n",
    "        blocks_done.append(blocks[i_last_file_block].identifier)\n",
    "        if i_first_free_block is None:\n",
    "            continue\n",
    "        blocks = (\n",
    "            blocks[:i_first_free_block] + \n",
    "            [blocks[i_last_file_block], Block(BlockType.FREE, size=blocks[i_first_free_block].size - blocks[i_last_file_block].size)] + \n",
    "            blocks[i_first_free_block+1:i_last_file_block] + \n",
    "            [Block(block_type=BlockType.FREE, size=blocks[i_last_file_block].size)] + \n",
    "            blocks[i_last_file_block+1:]\n",
    "        )\n",
    "        blocks = correct_free_blocks(blocks)\n",
    "        if debug:\n",
    "            print_blocks(blocks)\n",
    "    return blocks"
   ]
  },
  {
   "cell_type": "code",
   "execution_count": null,
   "metadata": {},
   "outputs": [],
   "source": [
    "def calc2(disk_map, debug=False):\n",
    "    blocks = compress_disk_map(disk_map, debug)\n",
    "    i = 0\n",
    "    s = 0\n",
    "    for block in blocks:\n",
    "        if block.block_type == BlockType.FILE:\n",
    "            s += ((i + i + block.size - 1) * block.size) // 2 * block.identifier\n",
    "        i += block.size\n",
    "    return s"
   ]
  },
  {
   "cell_type": "code",
   "execution_count": null,
   "metadata": {},
   "outputs": [],
   "source": [
    "calc2(example)"
   ]
  },
  {
   "cell_type": "code",
   "execution_count": null,
   "metadata": {},
   "outputs": [],
   "source": [
    "calc2(disk_map)"
   ]
  }
 ],
 "metadata": {
  "kernelspec": {
   "display_name": ".venv",
   "language": "python",
   "name": "python3"
  },
  "language_info": {
   "codemirror_mode": {
    "name": "ipython",
    "version": 3
   },
   "file_extension": ".py",
   "mimetype": "text/x-python",
   "name": "python",
   "nbconvert_exporter": "python",
   "pygments_lexer": "ipython3"
  }
 },
 "nbformat": 4,
 "nbformat_minor": 2
}
