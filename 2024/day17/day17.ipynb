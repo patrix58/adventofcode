{
 "cells": [
  {
   "cell_type": "code",
   "execution_count": null,
   "metadata": {},
   "outputs": [],
   "source": [
    "example = \"\"\"\n",
    "Register A: 729\n",
    "Register B: 0\n",
    "Register C: 0\n",
    "\n",
    "Program: 0,1,5,4,3,0\n",
    "\"\"\".strip().splitlines()"
   ]
  },
  {
   "cell_type": "code",
   "execution_count": null,
   "metadata": {},
   "outputs": [],
   "source": [
    "from dataclasses import dataclass, field\n",
    "\n",
    "@dataclass\n",
    "class Registers:\n",
    "    A: int\n",
    "    B: int\n",
    "    C: int\n",
    "    pointer: int = 0\n",
    "    output: list[int] = field(default_factory=lambda: [])"
   ]
  },
  {
   "cell_type": "code",
   "execution_count": null,
   "metadata": {},
   "outputs": [],
   "source": [
    "def read(input):\n",
    "    registers = {}\n",
    "    for line in input[:3]:\n",
    "        register, val = line[9:].split(\":\")\n",
    "        registers[register] = int(val)\n",
    "    registers = Registers(**registers)\n",
    "    program = list(map(int, input[-1][9:].split(\",\")))\n",
    "    return program, registers"
   ]
  },
  {
   "cell_type": "code",
   "execution_count": null,
   "metadata": {},
   "outputs": [],
   "source": [
    "from functools import wraps\n",
    "\n",
    "def inject_op(func):\n",
    "    @wraps(func)\n",
    "    def wrapped(op, registers):\n",
    "        match op:\n",
    "            case 4:\n",
    "                op = registers.A\n",
    "            case 5:\n",
    "                op = registers.B\n",
    "            case 6:\n",
    "                op = registers.C\n",
    "            case 7:\n",
    "                raise ValueError(\"Operand 7 should not exist\")\n",
    "        return func(op, registers)\n",
    "    return wrapped"
   ]
  },
  {
   "cell_type": "code",
   "execution_count": null,
   "metadata": {},
   "outputs": [],
   "source": [
    "class Ops:\n",
    "    def __init__(self):\n",
    "        self.ops = []\n",
    "    \n",
    "    def __getitem__(self, pos):\n",
    "        return self.ops[pos]\n",
    "    \n",
    "    def __call__(self, func):\n",
    "        self.ops.append(func)\n",
    "        return func\n",
    "\n",
    "ops = Ops()"
   ]
  },
  {
   "cell_type": "code",
   "execution_count": null,
   "metadata": {},
   "outputs": [],
   "source": [
    "@ops\n",
    "@inject_op\n",
    "def adv(op, registers):\n",
    "    registers.A = registers.A // (2 ** op)\n",
    "\n",
    "@ops\n",
    "def bxl(op, registers):\n",
    "    registers.B = registers.B ^ op\n",
    "\n",
    "@ops\n",
    "@inject_op\n",
    "def bst(op, registers):\n",
    "    registers.B = op % 8\n",
    "\n",
    "@ops\n",
    "def jnz(op, registers):\n",
    "    if registers.A:\n",
    "        registers.pointer = op - 2\n",
    "\n",
    "@ops\n",
    "def bxc(op, registers):\n",
    "    registers.B = registers.B ^ registers.C\n",
    "\n",
    "@ops\n",
    "@inject_op\n",
    "def out(op, registers):\n",
    "    registers.output.append(op % 8)\n",
    "\n",
    "@ops\n",
    "@inject_op\n",
    "def bdv(op, registers):\n",
    "    registers.B = registers.A // (2 ** op)\n",
    "\n",
    "@ops\n",
    "@inject_op\n",
    "def cdv(op, registers):\n",
    "    registers.C = registers.A // (2 ** op)"
   ]
  },
  {
   "cell_type": "code",
   "execution_count": null,
   "metadata": {},
   "outputs": [],
   "source": [
    "def execute(program, registers):\n",
    "    while registers.pointer < len(program) and registers.pointer % 2 == 0:\n",
    "        ops[program[registers.pointer]](program[registers.pointer+1], registers)\n",
    "        registers.pointer += 2\n",
    "    print(\",\".join(map(str, registers.output)))"
   ]
  },
  {
   "cell_type": "code",
   "execution_count": null,
   "metadata": {},
   "outputs": [],
   "source": [
    "execute(*read(example))"
   ]
  },
  {
   "cell_type": "code",
   "execution_count": null,
   "metadata": {},
   "outputs": [],
   "source": [
    "input = \"\"\"\n",
    "Register A: 33024962\n",
    "Register B: 0\n",
    "Register C: 0\n",
    "\n",
    "Program: 2,4,1,3,7,5,1,5,0,3,4,2,5,5,3,0\n",
    "\"\"\".strip().splitlines()"
   ]
  },
  {
   "cell_type": "code",
   "execution_count": null,
   "metadata": {},
   "outputs": [],
   "source": [
    "execute(*read(input))"
   ]
  },
  {
   "cell_type": "code",
   "execution_count": null,
   "metadata": {},
   "outputs": [],
   "source": [
    "def execute2(program, registers, A=None):\n",
    "    if A is not None:\n",
    "        registers.A = A\n",
    "    while registers.pointer < len(program) and registers.pointer % 2 == 0:\n",
    "        ops[program[registers.pointer]](program[registers.pointer+1], registers)\n",
    "        registers.pointer += 2"
   ]
  },
  {
   "cell_type": "code",
   "execution_count": null,
   "metadata": {},
   "outputs": [],
   "source": [
    "example2 = \"\"\"\n",
    "Register A: 2024\n",
    "Register B: 0\n",
    "Register C: 0\n",
    "\n",
    "Program: 0,3,5,4,3,0\n",
    "\"\"\".strip().splitlines()"
   ]
  },
  {
   "cell_type": "code",
   "execution_count": null,
   "metadata": {},
   "outputs": [],
   "source": [
    "import copy\n",
    "\n",
    "\n",
    "oprogram, oregisters = read(input)\n",
    "A = 1_000_001\n",
    "while True:\n",
    "    program = copy.deepcopy(oprogram)\n",
    "    registers = copy.deepcopy(oregisters)\n",
    "    execute2(program, registers, A)\n",
    "    if program == registers.output:\n",
    "        print(A)\n",
    "        break\n",
    "    A += 1"
   ]
  }
 ],
 "metadata": {
  "kernelspec": {
   "display_name": ".venv",
   "language": "python",
   "name": "python3"
  },
  "language_info": {
   "codemirror_mode": {
    "name": "ipython",
    "version": 3
   },
   "file_extension": ".py",
   "mimetype": "text/x-python",
   "name": "python",
   "nbconvert_exporter": "python",
   "pygments_lexer": "ipython3"
  }
 },
 "nbformat": 4,
 "nbformat_minor": 2
}
