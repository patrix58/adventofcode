{
 "cells": [
  {
   "cell_type": "code",
   "execution_count": null,
   "metadata": {},
   "outputs": [],
   "source": [
    "example1 = \"\"\"\n",
    "AAAA\n",
    "BBCD\n",
    "BBCC\n",
    "EEEC\n",
    "\"\"\".strip().splitlines()\n",
    "\n",
    "example2 = \"\"\"\n",
    "OOOOO\n",
    "OXOXO\n",
    "OOOOO\n",
    "OXOXO\n",
    "OOOOO\n",
    "\"\"\".strip().splitlines()\n",
    "\n",
    "example3 = \"\"\"\n",
    "RRRRIICCFF\n",
    "RRRRIICCCF\n",
    "VVRRRCCFFF\n",
    "VVRCCCJFFF\n",
    "VVVVCJJCFE\n",
    "VVIVCCJJEE\n",
    "VVIIICJJEE\n",
    "MIIIIIJJEE\n",
    "MIIISIJEEE\n",
    "MMMISSJEEE\n",
    "\"\"\".strip().splitlines()\n",
    "\n",
    "example4 = \"\"\"\n",
    "EEEEE\n",
    "EXXXX\n",
    "EEEEE\n",
    "EXXXX\n",
    "EEEEE\n",
    "\"\"\".strip().splitlines()\n",
    "\n",
    "example5 = \"\"\"\n",
    "AAAAAA\n",
    "AAABBA\n",
    "AAABBA\n",
    "ABBAAA\n",
    "ABBAAA\n",
    "AAAAAA\n",
    "\"\"\".strip().splitlines()"
   ]
  },
  {
   "cell_type": "code",
   "execution_count": null,
   "metadata": {},
   "outputs": [],
   "source": [
    "import numpy as np\n",
    "\n",
    "def read_map(input):\n",
    "    return np.array([[e for e in row] for row in input])"
   ]
  },
  {
   "cell_type": "code",
   "execution_count": null,
   "metadata": {},
   "outputs": [],
   "source": [
    "from collections import defaultdict\n",
    "from dataclasses import dataclass, field\n",
    "\n",
    "\n",
    "@dataclass\n",
    "class Region:\n",
    "    letter: str = \"\"\n",
    "    area: int = 0\n",
    "    perimeter: int = 0\n",
    "    sides: dict[tuple[int, int], int] = field(default_factory=lambda: defaultdict(int))"
   ]
  },
  {
   "cell_type": "code",
   "execution_count": null,
   "metadata": {},
   "outputs": [],
   "source": [
    "dirs = [(1, 0), (0, 1), (-1, 0), (0, -1)]\n",
    "\n",
    "def next_step(y, x, plant_map, visited, region):\n",
    "    for dy, dx in dirs:\n",
    "        ny = y + dy\n",
    "        nx = x + dx\n",
    "        if 0 <= ny < plant_map.shape[0] and 0 <= nx < plant_map.shape[1] and plant_map[y, x] == plant_map[ny, nx]:\n",
    "            if not visited[ny, nx]:\n",
    "                yield ny, nx\n",
    "        else:\n",
    "            # Part One\n",
    "            # region.perimeter += 1\n",
    "            # Part Two\n",
    "            region.sides[(ny, nx)] += 1\n",
    "\n",
    "def calc_perimeter(sides, plant_map):\n",
    "    done = False\n",
    "    print(sides)\n",
    "    while not done:\n",
    "        done = True\n",
    "        for (y, x), v in sides.items():\n",
    "            if v <= 0:\n",
    "                continue\n",
    "            ys = [e[0] for e, c in sides.items() if c > 0 and e[1] == x]\n",
    "            xs = [e[1] for e, c in sides.items() if c > 0 and e[0] == y]\n",
    "            if x+1 in xs or x-1 in xs or y+1 in ys or y-1 in ys:\n",
    "                sides[(y, x)] -= 1\n",
    "                done = False\n",
    "                break\n",
    "    print(sides)\n",
    "    return sum(v for v in sides.values() if v > 0)\n",
    "    # return sum(max([v for (yy, _), v in sides.items() if yy==y], default=0) for y in range(plant_map.shape[0])) + sum(max([v for (_, xx), v in sides.items() if xx==x], default=0) for x in range(plant_map.shape[1]))\n",
    "\n",
    "def fill(plant_map, y, x, visited, region):\n",
    "    region.area += 1\n",
    "    visited[y, x] = 1\n",
    "    for ny, nx in next_step(y, x, plant_map, visited, region):\n",
    "        fill(plant_map, ny, nx, visited, region)"
   ]
  },
  {
   "cell_type": "code",
   "execution_count": null,
   "metadata": {},
   "outputs": [],
   "source": [
    "def calc_cost(regions):\n",
    "    return sum(region.area * region.perimeter for region in regions)\n",
    "\n",
    "def calc(plant_map):\n",
    "    regions = []\n",
    "    visited = np.full_like(plant_map, 0, dtype=np.uint)\n",
    "    for y in range(plant_map.shape[0]):\n",
    "        for x in range(plant_map.shape[1]):\n",
    "            if not visited[y, x]:\n",
    "                regions.append(Region(letter=plant_map[y, x]))\n",
    "                fill(plant_map, y, x, visited, regions[-1])\n",
    "                # Part Two\n",
    "                regions[-1].perimeter = calc_perimeter(regions[-1].sides, plant_map)\n",
    "                print(regions[-1])\n",
    "    return calc_cost(regions)"
   ]
  },
  {
   "cell_type": "code",
   "execution_count": null,
   "metadata": {},
   "outputs": [],
   "source": [
    "calc(read_map(example5))"
   ]
  },
  {
   "cell_type": "code",
   "execution_count": null,
   "metadata": {},
   "outputs": [],
   "source": [
    "from pathlib import Path\n",
    "\n",
    "input = Path(\"1.txt\").read_text().splitlines()"
   ]
  },
  {
   "cell_type": "code",
   "execution_count": null,
   "metadata": {},
   "outputs": [],
   "source": [
    "calc(read_map(input))"
   ]
  }
 ],
 "metadata": {
  "kernelspec": {
   "display_name": ".venv",
   "language": "python",
   "name": "python3"
  },
  "language_info": {
   "codemirror_mode": {
    "name": "ipython",
    "version": 3
   },
   "file_extension": ".py",
   "mimetype": "text/x-python",
   "name": "python",
   "nbconvert_exporter": "python",
   "pygments_lexer": "ipython3"
  }
 },
 "nbformat": 4,
 "nbformat_minor": 2
}
