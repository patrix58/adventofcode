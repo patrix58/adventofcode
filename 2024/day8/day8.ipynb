{
 "cells": [
  {
   "cell_type": "code",
   "execution_count": null,
   "metadata": {},
   "outputs": [],
   "source": [
    "example1 = \"\"\"\n",
    "..........\n",
    "..........\n",
    "..........\n",
    "....a.....\n",
    "..........\n",
    ".....a....\n",
    "..........\n",
    "..........\n",
    "..........\n",
    "..........\n",
    "\"\"\".strip().splitlines()\n",
    "\n",
    "example2 = \"\"\"\n",
    "..........\n",
    "..........\n",
    "..........\n",
    "....a.....\n",
    "........a.\n",
    ".....a....\n",
    "..........\n",
    "..........\n",
    "..........\n",
    "..........\n",
    "\"\"\".strip().splitlines()\n",
    "\n",
    "example3 = \"\"\"\n",
    "............\n",
    "........0...\n",
    ".....0......\n",
    ".......0....\n",
    "....0.......\n",
    "......A.....\n",
    "............\n",
    "............\n",
    "........A...\n",
    ".........A..\n",
    "............\n",
    "............\n",
    "\"\"\".strip().splitlines()"
   ]
  },
  {
   "cell_type": "code",
   "execution_count": null,
   "metadata": {},
   "outputs": [],
   "source": [
    "from collections import defaultdict\n",
    "\n",
    "def get_antennas(input):\n",
    "    antennas = defaultdict(list)\n",
    "    for i, row in enumerate(input):\n",
    "        for j, e in enumerate(row):\n",
    "            if e != \".\":\n",
    "                antennas[e].append((i, j))\n",
    "    return antennas"
   ]
  },
  {
   "cell_type": "code",
   "execution_count": null,
   "metadata": {},
   "outputs": [],
   "source": [
    "def get_antinodes(antennas):\n",
    "    antinodes = []\n",
    "    for sub_antennas in antennas.values():\n",
    "        for i, antenna1 in enumerate(sub_antennas):\n",
    "            for antenna2 in sub_antennas[i+1:]:\n",
    "                diff = (antenna1[0]-antenna2[0], antenna1[1]-antenna2[1])\n",
    "                antinodes += [(antenna1[0]+diff[0], antenna1[1]+diff[1]), (antenna2[0]-diff[0], antenna2[1]-diff[1])]\n",
    "    return antinodes"
   ]
  },
  {
   "cell_type": "code",
   "execution_count": null,
   "metadata": {},
   "outputs": [],
   "source": [
    "def print_antinodes(input, antinodes):\n",
    "    for i in range(len(input)):\n",
    "        for j in range(len(input[0])):\n",
    "            if input[i][j] != \".\":\n",
    "                print(input[i][j], end=\"\")\n",
    "            elif (i, j) in antinodes:\n",
    "                print(\"#\", end=\"\")\n",
    "            else:\n",
    "                print(input[i][j], end=\"\")\n",
    "        print()"
   ]
  },
  {
   "cell_type": "code",
   "execution_count": null,
   "metadata": {},
   "outputs": [],
   "source": [
    "def validate_antinode(input, antinode):\n",
    "    return 0 <= antinode[0] < len(input) and 0 <= antinode[1] < len(input[0]) and input[antinode[0]][antinode[1]] == \".\""
   ]
  },
  {
   "cell_type": "code",
   "execution_count": null,
   "metadata": {},
   "outputs": [],
   "source": [
    "def calc_antinodes(input):\n",
    "    antennas = get_antennas(input)\n",
    "    antinodes = get_antinodes(antennas)\n",
    "    return sum(validate_antinode(input, antinode) for antinode in antinodes)"
   ]
  },
  {
   "cell_type": "code",
   "execution_count": null,
   "metadata": {},
   "outputs": [],
   "source": [
    "calc_antinodes(example3)"
   ]
  },
  {
   "cell_type": "code",
   "execution_count": null,
   "metadata": {},
   "outputs": [],
   "source": [
    "from pathlib import Path\n",
    "\n",
    "input = Path(\"1.txt\").read_text().splitlines()"
   ]
  },
  {
   "cell_type": "code",
   "execution_count": null,
   "metadata": {},
   "outputs": [],
   "source": [
    "calc_antinodes(input)"
   ]
  },
  {
   "cell_type": "code",
   "execution_count": null,
   "metadata": {},
   "outputs": [],
   "source": [
    "def get_sub_antinodes(start, diff, input):\n",
    "    res = []\n",
    "    i, j = start\n",
    "    while 0 <= i < len(input) and 0 <= j < len(input[0]):\n",
    "        res.append((i, j))\n",
    "        i += diff[0]\n",
    "        j += diff[1]\n",
    "    return res\n",
    "\n",
    "def get_antinodes2(antennas, input):\n",
    "    antinodes = []\n",
    "    for sub_antennas in antennas.values():\n",
    "        for i, antenna1 in enumerate(sub_antennas):\n",
    "            for antenna2 in sub_antennas[i+1:]:\n",
    "                diff = (antenna1[0]-antenna2[0], antenna1[1]-antenna2[1])\n",
    "                antinodes += get_sub_antinodes(antenna1, diff, input)\n",
    "                antinodes += get_sub_antinodes(antenna2, (-diff[0], -diff[1]), input)\n",
    "    return antinodes\n",
    "\n",
    "def calc_antinodes2(input, debug=False):\n",
    "    antennas = get_antennas(input)\n",
    "    antinodes = get_antinodes2(antennas, input)\n",
    "    if debug:\n",
    "        print_antinodes(input, antinodes)\n",
    "    return sum(validate_antinode(input, antinode) for antinode in set(antinodes)) + sum(len(sub_antennas) for sub_antennas in antennas.values() if len(sub_antennas) > 1)"
   ]
  },
  {
   "cell_type": "code",
   "execution_count": null,
   "metadata": {},
   "outputs": [],
   "source": [
    "example4 = \"\"\"\n",
    "T.........\n",
    "...T......\n",
    ".T........\n",
    "..........\n",
    "..........\n",
    "..........\n",
    "..........\n",
    "..........\n",
    "..........\n",
    "..........\n",
    "\"\"\".strip().splitlines()"
   ]
  },
  {
   "cell_type": "code",
   "execution_count": null,
   "metadata": {},
   "outputs": [],
   "source": [
    "calc_antinodes2(example4, debug=True)"
   ]
  },
  {
   "cell_type": "code",
   "execution_count": null,
   "metadata": {},
   "outputs": [],
   "source": [
    "calc_antinodes2(example3)"
   ]
  },
  {
   "cell_type": "code",
   "execution_count": null,
   "metadata": {},
   "outputs": [],
   "source": [
    "calc_antinodes2(input)"
   ]
  }
 ],
 "metadata": {
  "kernelspec": {
   "display_name": ".venv",
   "language": "python",
   "name": "python3"
  },
  "language_info": {
   "codemirror_mode": {
    "name": "ipython",
    "version": 3
   },
   "file_extension": ".py",
   "mimetype": "text/x-python",
   "name": "python",
   "nbconvert_exporter": "python",
   "pygments_lexer": "ipython3"
  }
 },
 "nbformat": 4,
 "nbformat_minor": 2
}
