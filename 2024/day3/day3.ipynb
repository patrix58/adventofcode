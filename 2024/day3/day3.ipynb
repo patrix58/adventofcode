{
 "cells": [
  {
   "cell_type": "code",
   "execution_count": null,
   "metadata": {},
   "outputs": [],
   "source": [
    "example = \"xmul(2,4)%&mul[3,7]!@^do_not_mul(5,5)+mul(32,64]then(mul(11,8)mul(8,5))\"\n",
    "example1 = \"xmul(2,4)&mul[3,7]!^don't()_mul(5,5)+mul(32,64](mul(11,8)undo()?mul(8,5))\""
   ]
  },
  {
   "cell_type": "code",
   "execution_count": null,
   "metadata": {},
   "outputs": [],
   "source": [
    "enabled = {\n",
    "    \"mul\": True,\n",
    "    \"do\": True,\n",
    "    \"don't\": True,\n",
    "}\n",
    "\n",
    "def enable(op):\n",
    "    def enabler():\n",
    "        enabled[op] = True\n",
    "    return enabler\n",
    "\n",
    "def disable(op):\n",
    "    def disabler():\n",
    "        enabled[op] = False\n",
    "    return disabler\n",
    "\n",
    "ops = {\n",
    "    \"mul\": lambda x,y: x*y,\n",
    "    \"do\": enable(\"mul\"),\n",
    "    \"don't\": disable(\"mul\"),\n",
    "}"
   ]
  },
  {
   "cell_type": "code",
   "execution_count": null,
   "metadata": {},
   "outputs": [],
   "source": [
    "pattern = r\"(\"f\"{'|'.join(ops)}\"r\")\\((\\d+)*,*(\\d+)*\\)\""
   ]
  },
  {
   "cell_type": "code",
   "execution_count": null,
   "metadata": {},
   "outputs": [],
   "source": [
    "import re\n",
    "\n",
    "def process(data):\n",
    "    s = 0\n",
    "    for groups in re.findall(pattern, data):\n",
    "        opname = groups[0]\n",
    "        if not enabled[opname]:\n",
    "            continue\n",
    "        func = ops[opname]\n",
    "        params = [int(group) for group in groups[1:] if group]\n",
    "        res = func(*params)\n",
    "        if res is not None:\n",
    "            s += res\n",
    "    return s"
   ]
  },
  {
   "cell_type": "code",
   "execution_count": null,
   "metadata": {},
   "outputs": [],
   "source": [
    "process(example1)"
   ]
  },
  {
   "cell_type": "code",
   "execution_count": null,
   "metadata": {},
   "outputs": [],
   "source": [
    "from pathlib import Path\n",
    "\n",
    "data = Path(\"1.txt\").read_text()"
   ]
  },
  {
   "cell_type": "code",
   "execution_count": null,
   "metadata": {},
   "outputs": [],
   "source": [
    "process(data)"
   ]
  }
 ],
 "metadata": {
  "kernelspec": {
   "display_name": ".venv",
   "language": "python",
   "name": "python3"
  },
  "language_info": {
   "codemirror_mode": {
    "name": "ipython",
    "version": 3
   },
   "file_extension": ".py",
   "mimetype": "text/x-python",
   "name": "python",
   "nbconvert_exporter": "python",
   "pygments_lexer": "ipython3"
  }
 },
 "nbformat": 4,
 "nbformat_minor": 2
}
