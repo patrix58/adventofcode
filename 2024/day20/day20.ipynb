{
 "cells": [
  {
   "cell_type": "code",
   "execution_count": null,
   "metadata": {},
   "outputs": [],
   "source": [
    "example = \"\"\"\n",
    "###############\n",
    "#...#...#.....#\n",
    "#.#.#.#.#.###.#\n",
    "#S#...#.#.#...#\n",
    "#######.#.#.###\n",
    "#######.#.#...#\n",
    "#######.#.###.#\n",
    "###..E#...#...#\n",
    "###.#######.###\n",
    "#...###...#...#\n",
    "#.#####.#.###.#\n",
    "#.#...#.#.#...#\n",
    "#.#.#.#.#.#.###\n",
    "#...#...#...###\n",
    "###############\n",
    "\"\"\".strip().splitlines()"
   ]
  },
  {
   "cell_type": "code",
   "execution_count": null,
   "metadata": {},
   "outputs": [],
   "source": [
    "import numpy as np\n",
    "\n",
    "mapping = {\n",
    "    \"#\": 1,\n",
    "    \".\": 0,\n",
    "    \"S\": 0,\n",
    "    \"E\": 0,\n",
    "}\n",
    "\n",
    "def read(input):\n",
    "    table = []\n",
    "    s, e = None, None\n",
    "    for i, row in enumerate(input):\n",
    "        sj = row.find(\"S\")\n",
    "        ej = row.find(\"E\")\n",
    "        if sj != -1:\n",
    "            s = i, sj\n",
    "        if ej != -1:\n",
    "            e = i, ej\n",
    "        table.append([mapping[e] for e in row])\n",
    "    return np.array(table), s, e"
   ]
  },
  {
   "cell_type": "code",
   "execution_count": null,
   "metadata": {},
   "outputs": [],
   "source": [
    "dirs = [(1, 0), (0, 1), (-1, 0), (0, -1)]\n",
    "\n",
    "def next_step(y, x, table, visited):\n",
    "    for diry, dirx in dirs:\n",
    "        ny = y + diry\n",
    "        nx = x + dirx\n",
    "        if 0 <= ny < table.shape[0] and 0 <= nx < table.shape[1] and not visited[ny, nx] and not table[ny, nx]:\n",
    "            yield ny, nx\n",
    "\n",
    "\n",
    "def bfs(table, s, e):\n",
    "    visited = np.full_like(table, 0)\n",
    "    steps = np.full_like(table, 0)\n",
    "    v = [(*s, 0)]\n",
    "    visited[*s] = 1\n",
    "    finished = False\n",
    "    while v and not finished:\n",
    "        y, x, step = v[0]\n",
    "        v = v[1:]\n",
    "        for ny, nx in next_step(y, x, table, visited):\n",
    "            visited[ny, nx] = 1\n",
    "            v.append((ny, nx, step+1))\n",
    "            steps[ny, nx] = step+1\n",
    "            finished = (ny, nx) == e\n",
    "    return steps"
   ]
  },
  {
   "cell_type": "code",
   "execution_count": null,
   "metadata": {},
   "outputs": [],
   "source": [
    "def check_cheats(table, s, e, cheat_length=2, debug=False):\n",
    "    steps = bfs(table, s, e)\n",
    "    allcheats = np.array([], dtype=np.int64)\n",
    "    for cl in range(2, cheat_length+1):\n",
    "        cl_y = min(cl, steps.shape[0]-1)\n",
    "        cheat1 = np.abs(steps[:steps.shape[0]-cl_y, :] - steps[cl_y:, :]) - cl_y\n",
    "        table1 = np.logical_or(table[:table.shape[0]-cl_y, :], table[cl_y:, :])\n",
    "        cheat1[table1] = 0\n",
    "        cl_x = min(cl, steps.shape[1]-1)\n",
    "        cheat2 = np.abs(steps[:, :steps.shape[1]-cl_x] - steps[:, cl_x:]) - cl_x\n",
    "        table2 = np.logical_or(table[:, :table.shape[1]-cl_x], table[:, cl_x:])\n",
    "        cheat2[table2] = 0\n",
    "        cheats = np.concat((cheat1[cheat1 != 0], cheat2[cheat2 != 0]))\n",
    "        allcheats = np.concat((allcheats, cheats))\n",
    "    if debug:\n",
    "        print(\"Steps\\n\", steps)\n",
    "        print(allcheats)\n",
    "        print(list(map(lambda x: (x[0].item(),x[1].item()),zip(*np.unique(allcheats, return_counts=True)))))\n",
    "    return np.count_nonzero(allcheats >= 100)"
   ]
  },
  {
   "cell_type": "code",
   "execution_count": null,
   "metadata": {},
   "outputs": [],
   "source": [
    "check_cheats(*read(example), debug=True)"
   ]
  },
  {
   "cell_type": "code",
   "execution_count": null,
   "metadata": {},
   "outputs": [],
   "source": [
    "from pathlib import Path\n",
    "\n",
    "input = Path(\"1.txt\").read_text().splitlines()"
   ]
  },
  {
   "cell_type": "code",
   "execution_count": null,
   "metadata": {},
   "outputs": [],
   "source": [
    "check_cheats(*read(input))"
   ]
  },
  {
   "cell_type": "code",
   "execution_count": null,
   "metadata": {},
   "outputs": [],
   "source": [
    "check_cheats(*read(example), cheat_length=20, debug=True)"
   ]
  },
  {
   "cell_type": "code",
   "execution_count": null,
   "metadata": {},
   "outputs": [],
   "source": [
    "check_cheats(*read(input), cheat_length=20)"
   ]
  },
  {
   "cell_type": "code",
   "execution_count": null,
   "metadata": {},
   "outputs": [],
   "source": [
    "from collections import defaultdict\n",
    "\n",
    "dirs2 = [(1, 0), (0, 1)]\n",
    "\n",
    "def next_step2(sy, sx, y, x, steps, length, i=1):\n",
    "    for diry, dirx in dirs2:\n",
    "        ny = y + diry\n",
    "        nx = x + dirx\n",
    "        if 0 <= ny < steps.shape[0] and 0 <= nx < steps.shape[1]:\n",
    "            if steps[ny, nx]:\n",
    "                yield abs(steps[sy, sx]-steps[ny, nx])-i\n",
    "            if i < length:\n",
    "                yield from next_step2(sy, sx, ny, nx, steps, length, i+1)\n",
    "\n",
    "def check_cheats2(table, s, e, cheat_length=20):\n",
    "    steps = bfs(table, s, e)\n",
    "    print(steps)\n",
    "    freq = defaultdict(int)\n",
    "    for y in range(table.shape[0]):\n",
    "        for x in range(table.shape[1]):\n",
    "            if steps[y, x]:\n",
    "                for step in next_step2(y, x, y, x, steps, cheat_length):\n",
    "                    freq[step.item()] += 1\n",
    "    return sorted(freq.items(), key=lambda x: x[0])"
   ]
  },
  {
   "cell_type": "code",
   "execution_count": null,
   "metadata": {},
   "outputs": [],
   "source": [
    "check_cheats2(*read(example), cheat_length=2)"
   ]
  },
  {
   "cell_type": "code",
   "execution_count": null,
   "metadata": {},
   "outputs": [],
   "source": [
    "def check_cheats3(table, s, e, cheat_length=20):\n",
    "    steps = bfs(table, s, e)\n",
    "    visited = defaultdict(list)\n",
    "    freq = defaultdict(int)\n",
    "    for y1 in range(table.shape[0]):\n",
    "        for x1 in range(table.shape[1]):\n",
    "            for y2 in range(table.shape[0]):\n",
    "                for x2 in range(table.shape[1]):\n",
    "                    visited[(y1, x1)].append((y2, x2))\n",
    "                    if (y1, x1) not in visited[(y2, x2)] and steps[y1, x1] and steps[y2, x2] and abs(y2-y1)+abs(x2-x1) <= cheat_length:\n",
    "                        freq[abs(steps[y1, x1]-steps[y2, x2]).item()-abs(y2-y1)-abs(x2-x1)] += 1\n",
    "    return sorted(freq.items(), key=lambda x:x[0])"
   ]
  },
  {
   "cell_type": "code",
   "execution_count": null,
   "metadata": {},
   "outputs": [],
   "source": [
    "check_cheats3(*read(example), cheat_length=20)"
   ]
  }
 ],
 "metadata": {
  "kernelspec": {
   "display_name": ".venv",
   "language": "python",
   "name": "python3"
  },
  "language_info": {
   "codemirror_mode": {
    "name": "ipython",
    "version": 3
   },
   "file_extension": ".py",
   "mimetype": "text/x-python",
   "name": "python",
   "nbconvert_exporter": "python",
   "pygments_lexer": "ipython3"
  }
 },
 "nbformat": 4,
 "nbformat_minor": 2
}
