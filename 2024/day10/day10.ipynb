{
 "cells": [
  {
   "cell_type": "code",
   "execution_count": null,
   "metadata": {},
   "outputs": [],
   "source": [
    "example = \"\"\"\n",
    "89010123\n",
    "78121874\n",
    "87430965\n",
    "96549874\n",
    "45678903\n",
    "32019012\n",
    "01329801\n",
    "10456732\n",
    "\"\"\".strip().splitlines()"
   ]
  },
  {
   "cell_type": "code",
   "execution_count": null,
   "metadata": {},
   "outputs": [],
   "source": [
    "import numpy as np\n",
    "\n",
    "def make_array(input):\n",
    "    return np.array([[int(e) for e in line] for line in input])"
   ]
  },
  {
   "cell_type": "code",
   "execution_count": null,
   "metadata": {},
   "outputs": [],
   "source": [
    "from numpy import where\n",
    "\n",
    "\n",
    "dirs = [(1, 0), (0, 1), (-1, 0), (0, -1)]\n",
    "\n",
    "\n",
    "def next_pos(data, y, x):\n",
    "    for yy, xx in dirs:\n",
    "        ny = y+yy\n",
    "        nx = x+xx\n",
    "        if 0 <= ny < data.shape[0] and 0 <= nx < data.shape[1]:\n",
    "            yield (ny, nx)\n",
    "\n",
    "\n",
    "def dfs(data, visited, y, x):\n",
    "    visited[y, x] = 1\n",
    "    if not data[y, x]:\n",
    "        return\n",
    "    for ny, nx in next_pos(data, y, x):\n",
    "        if not visited[ny, nx] and data[ny, nx] == data[y, x] - 1:\n",
    "            dfs(data, visited, ny, nx)\n",
    "\n",
    "\n",
    "def trail_heads(data):\n",
    "    trails = np.full_like(data, 0)\n",
    "    for start_y, start_x in zip(*np.where(data == 9)):\n",
    "        visited = np.full_like(data, 0)\n",
    "        dfs(data, visited, start_y, start_x)\n",
    "        trails += visited\n",
    "    return trails[np.where(data == 0)].sum().item()"
   ]
  },
  {
   "cell_type": "code",
   "execution_count": null,
   "metadata": {},
   "outputs": [],
   "source": [
    "trail_heads(make_array(example))"
   ]
  },
  {
   "cell_type": "code",
   "execution_count": null,
   "metadata": {},
   "outputs": [],
   "source": [
    "from pathlib import Path\n",
    "\n",
    "input = Path(\"1.txt\").read_text().splitlines()"
   ]
  },
  {
   "cell_type": "code",
   "execution_count": null,
   "metadata": {},
   "outputs": [],
   "source": [
    "trail_heads(make_array(input))"
   ]
  },
  {
   "cell_type": "code",
   "execution_count": null,
   "metadata": {},
   "outputs": [],
   "source": [
    "def trail_rating(data):\n",
    "    ratings = np.full_like(data, 0)\n",
    "    ratings[data == 9] = 1\n",
    "    for i in range(9, 0, -1):\n",
    "        for y, x in zip(*np.where(data == i)):\n",
    "            for ny, nx in next_pos(data, y, x):\n",
    "                if data[ny, nx] == i-1:\n",
    "                    ratings[ny, nx] += ratings[y, x]\n",
    "    return ratings[data == 0].sum().item()"
   ]
  },
  {
   "cell_type": "code",
   "execution_count": null,
   "metadata": {},
   "outputs": [],
   "source": [
    "trail_rating(make_array(example))"
   ]
  },
  {
   "cell_type": "code",
   "execution_count": null,
   "metadata": {},
   "outputs": [],
   "source": [
    "trail_rating(make_array(input))"
   ]
  }
 ],
 "metadata": {
  "kernelspec": {
   "display_name": ".venv",
   "language": "python",
   "name": "python3"
  },
  "language_info": {
   "codemirror_mode": {
    "name": "ipython",
    "version": 3
   },
   "file_extension": ".py",
   "mimetype": "text/x-python",
   "name": "python",
   "nbconvert_exporter": "python",
   "pygments_lexer": "ipython3"
  }
 },
 "nbformat": 4,
 "nbformat_minor": 2
}
